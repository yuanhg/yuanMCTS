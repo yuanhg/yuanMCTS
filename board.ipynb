{
 "cells": [
  {
   "cell_type": "code",
   "execution_count": 17,
   "metadata": {},
   "outputs": [],
   "source": [
    "import numpy as np\n",
    "\n",
    "class Board(object):\n",
    "    '''棋盘，默认是“井字棋”Tie Tac Toe，也可以作为五子棋的棋盘'''\n",
    "    def __init__(self, height=3, width=3, ninline=3):\n",
    "        self.width = width     #列\n",
    "        self.height = height   #行 \n",
    "        \n",
    "        #''' # 表示几个相同的棋子连成一线算作胜利'''\n",
    "        self.ninline = ninline\n",
    "        \n",
    "        #''' # M x N 矩阵，值是棋子类型，0空，1代表'x'，-1代表'o'; ''' \n",
    "        self.ox = np.zeros((self.height, self.width), dtype=int )\n",
    "        \n",
    "        #'''棋盘棋局胜负标志，1代表'x'赢，-1代表'o'赢，0代表平局，2代表未结束'''\n",
    "        self.ox_states = 2\n",
    "        \n",
    "        #'''现棋盘空余可下位置集合如{(0,0), (0,1), }'''\n",
    "        self.ox_availables = set( [(i,j) for i in range(self.height) for j in range(self.width)] )\n",
    "               \n",
    " \n",
    "    def _nmatrixwinner(self,nm):\n",
    "        '''计算一个ninline方阵连线情况,1代表'x'连成一线，-1代表'o'，0代表没有'''\n",
    "        #'''把各行列的和组成列表'''\n",
    "        ox_line = list(nm.sum(axis=1)) + list(nm.sum(axis=0))\n",
    "        #'''第一条对角线的和加入列表'''\n",
    "        ox_line += [sum([nm[i, i] for i in range(nm.shape[0]) ])]\n",
    "        #'''第二条对角线的和加入列表'''\n",
    "        ox_line += [sum([nm[nm.shape[0]-1-i,i] for i in range(nm.shape[0]) ])]            \n",
    "        \n",
    "        return -1 if -nm.shape[0] in ox_line else 1 if nm.shape[0] in ox_line else 0\n",
    "    \n",
    "        \n",
    "    def _checkwinner(self):\n",
    "        '''检查棋盘棋局胜负，1代表'x'赢，-1代表'o'赢，2代表平局，0代表未结束'''\n",
    "        #'''生成棋盘所有ninline维方阵，并判断方阵是否有连成一线的情况'''\n",
    "        matrixlist = [self.ox[i:i+self.ninline, j:j+self.ninline] \n",
    "                      for i in range(self.ox.shape[0]- self.ninline +1)\n",
    "                     for j in range(self.ox.shape[1]- self.ninline +1)\n",
    "                     ]\n",
    "    \n",
    "        #'''如果出现ninline维方阵返回1或者-1，代表已经有了输赢，返回输赢结果'''\n",
    "        for nm in matrixlist:\n",
    "            if self._nmatrixwinner(nm) != 0:\n",
    "                return self._nmatrixwinner(nm) \n",
    "        \n",
    "        #'''所有ninline维方阵返回都是0，检查是否有可落子处，无则返回0代表平局，有则2代表未结束'''\n",
    "        if not self.ox_available:\n",
    "            return 0\n",
    "        else:\n",
    "            return 2       \n",
    "          \n",
    "    \n",
    "    def oxupdate(self, player, location): \n",
    "        '''# player在location(x,y)处落子，更新棋盘，,更新可用位置，计算此时棋局胜负'''\n",
    "        if location in self.ox_available:\n",
    "            self.ox[location] = 1 if player=='x' else -1\n",
    "            self.ox_available.remove( location )    \n",
    "            self.ox_states = self._checkwinner()\n",
    "            return 1\n",
    "        else:\n",
    "            return 0        \n",
    "            \n",
    "    \n",
    "    def oxstates(self): \n",
    "        '''返回棋盘输赢状态'''\n",
    "        return self.ox_states    \n",
    "    \n",
    "    \n",
    "    def oxavailable(self):\n",
    "        '''返回一个可以选择落子的集合'''\n",
    "        return self.ox_available    \n",
    "       \n",
    "            \n",
    "    def oxshow(self):\n",
    "        '''显示棋盘，参数是棋盘矩阵'''\n",
    "        #'''打印列标号'''\n",
    "        print(\"{0:^5}\".format('x\\y'), end='') # 5个字符\n",
    "        for j in range(self.width):\n",
    "            print(\"{0:^5}\".format(j+1), end='') # 5个字符          \n",
    "        print('\\n')  # 换行,打印空行        \n",
    "      \n",
    "        #'''打印棋盘'''            \n",
    "        for i in range(self.height):        #行数\n",
    "            #'''打印行标号'''\n",
    "            print(\"{0:^5}\".format(i+1), end='') # 5个字符\n",
    "\n",
    "            #'''打印该行棋盘'''    \n",
    "            for j in range(self.width):\n",
    "                if self.ox[i][j] == 0:    #未落子  5个字符\n",
    "                    print(\"{0:^5}\".format('~'), end='')\n",
    "                elif self.ox[i][j] == 1:   # x 落子  5个字符\n",
    "                    print(\"{0:^5}\".format('X'), end='')\n",
    "                elif self.ox[i][j] == -1:  # o 落子\n",
    "                    print(\"{0:^5}\".format('O'), end='') \n",
    "            print('\\n')     \n",
    "            \n",
    "            "
   ]
  },
  {
   "cell_type": "code",
   "execution_count": 18,
   "metadata": {},
   "outputs": [
    {
     "name": "stdout",
     "output_type": "stream",
     "text": [
      " x\\y   1    2    3    4    5    6    7  \n",
      "\n",
      "  1    ~    ~    ~    ~    ~    ~    ~  \n",
      "\n",
      "  2    ~    ~    ~    ~    ~    ~    ~  \n",
      "\n",
      "  3    ~    ~    ~    ~    ~    ~    ~  \n",
      "\n",
      "  4    ~    ~    ~    ~    ~    ~    ~  \n",
      "\n"
     ]
    }
   ],
   "source": [
    "a=Board(4,7,4)\n",
    "a.oxshow()"
   ]
  },
  {
   "cell_type": "code",
   "execution_count": 21,
   "metadata": {},
   "outputs": [
    {
     "name": "stdout",
     "output_type": "stream",
     "text": [
      " x\\y   1    2    3    4    5    6    7  \n",
      "\n",
      "  1    ~    ~    ~    ~    ~    ~    ~  \n",
      "\n",
      "  2    ~    X    ~    ~    ~    ~    ~  \n",
      "\n",
      "  3    ~    ~    ~    ~    ~    ~    ~  \n",
      "\n",
      "  4    ~    ~    ~    ~    ~    ~    ~  \n",
      "\n",
      "2\n"
     ]
    }
   ],
   "source": [
    "a.oxupdate('x',(1,1))\n",
    "a.oxshow()\n",
    "print(a.oxstates())"
   ]
  },
  {
   "cell_type": "code",
   "execution_count": 23,
   "metadata": {},
   "outputs": [
    {
     "name": "stdout",
     "output_type": "stream",
     "text": [
      " x\\y   1    2    3    4    5    6    7  \n",
      "\n",
      "  1    ~    ~    ~    ~    ~    ~    ~  \n",
      "\n",
      "  2    ~    X    ~    ~    ~    ~    ~  \n",
      "\n",
      "  3    ~    O    ~    ~    ~    ~    ~  \n",
      "\n",
      "  4    ~    ~    ~    ~    ~    ~    ~  \n",
      "\n",
      "2\n"
     ]
    },
    {
     "data": {
      "text/plain": [
       "{(0, 0),\n",
       " (0, 1),\n",
       " (0, 2),\n",
       " (0, 3),\n",
       " (0, 4),\n",
       " (0, 5),\n",
       " (0, 6),\n",
       " (1, 0),\n",
       " (1, 2),\n",
       " (1, 3),\n",
       " (1, 4),\n",
       " (1, 5),\n",
       " (1, 6),\n",
       " (2, 0),\n",
       " (2, 2),\n",
       " (2, 3),\n",
       " (2, 4),\n",
       " (2, 5),\n",
       " (2, 6),\n",
       " (3, 0),\n",
       " (3, 1),\n",
       " (3, 2),\n",
       " (3, 3),\n",
       " (3, 4),\n",
       " (3, 5),\n",
       " (3, 6)}"
      ]
     },
     "execution_count": 23,
     "metadata": {},
     "output_type": "execute_result"
    }
   ],
   "source": [
    "a.oxupdate('o',(2,1))\n",
    "a.oxshow()\n",
    "print(a.oxstates())\n",
    "a.oxavailable()"
   ]
  },
  {
   "cell_type": "code",
   "execution_count": null,
   "metadata": {},
   "outputs": [],
   "source": []
  }
 ],
 "metadata": {
  "kernelspec": {
   "display_name": "Python 3",
   "language": "python",
   "name": "python3"
  },
  "language_info": {
   "codemirror_mode": {
    "name": "ipython",
    "version": 3
   },
   "file_extension": ".py",
   "mimetype": "text/x-python",
   "name": "python",
   "nbconvert_exporter": "python",
   "pygments_lexer": "ipython3",
   "version": "3.7.1"
  }
 },
 "nbformat": 4,
 "nbformat_minor": 2
}
