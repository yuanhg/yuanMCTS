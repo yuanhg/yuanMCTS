{
 "cells": [
  {
   "cell_type": "code",
   "execution_count": 1,
   "metadata": {},
   "outputs": [],
   "source": [
    "import numpy as np\n",
    "import copy\n",
    "import itertools\n",
    "import random\n",
    "#import time\n",
    "#import math"
   ]
  },
  {
   "cell_type": "code",
   "execution_count": 6,
   "metadata": {},
   "outputs": [
    {
     "ename": "SyntaxError",
     "evalue": "invalid syntax (<ipython-input-6-fcefc23bc018>, line 41)",
     "output_type": "error",
     "traceback": [
      "\u001b[1;36m  File \u001b[1;32m\"<ipython-input-6-fcefc23bc018>\"\u001b[1;36m, line \u001b[1;32m41\u001b[0m\n\u001b[1;33m    return -1 if -ox.shape[0] in ox_line else 1 if ox.shape[0] in ox_line\u001b[0m\n\u001b[1;37m                                                                         ^\u001b[0m\n\u001b[1;31mSyntaxError\u001b[0m\u001b[1;31m:\u001b[0m invalid syntax\n"
     ]
    }
   ],
   "source": [
    "\n",
    "def tttshow(ox=None):\n",
    "    '''显示棋盘，参数是棋盘矩阵'''\n",
    "    #'''打印列标号'''\n",
    "    print(\"{0:^5}\".format('x\\y'), end='') # 5个字符\n",
    "    for j in range(ox.shape[1]):\n",
    "        print(\"{0:^5}\".format(j+1), end='') # 5个字符          \n",
    "    print('\\n')  # 换行,打印空行        \n",
    "      \n",
    "    #'''打印棋盘'''            \n",
    "    for i in range(ox.shape[0]):        #行数\n",
    "        #'''打印行标号'''\n",
    "        print(\"{0:^5}\".format(i+1), end='') # 5个字符\n",
    "\n",
    "        #'''打印该行棋盘'''    \n",
    "        for j in range(ox.shape[1]):\n",
    "            if ox[i][j] == 0:    #未落子  5个字符\n",
    "                print(\"{0:^5}\".format('~'), end='')\n",
    "            elif ox[i][j] == 1:   # x 落子  5个字符\n",
    "                print(\"{0:^5}\".format('X'), end='')\n",
    "            elif ox[i][j] == -1:  # o 落子\n",
    "                print(\"{0:^5}\".format('O'), end='') \n",
    "        print('\\n')  \n",
    "                \n",
    "\n",
    "def ttt_simu(ttt, player=None, movesteps=None):\n",
    "    '''根据给定棋盘现状和后续下法，返回棋盘最终状态，谁赢或者平局'''\n",
    "    ox = copy.deepcopy(ttt)\n",
    "    playturn = player\n",
    "    if movesteps is not None:\n",
    "        for ms in movesteps:\n",
    "            ox[ms] = 1 if playturn=='x' else -1\n",
    "            '''计算ttt方阵连线情况,1代表'x'连成一线，-1代表'o'，0代表没有'''\n",
    "            '''把各行列的和组成列表'''\n",
    "            ox_line = list(ox.sum(axis=1)) + list(ox.sum(axis=0))\n",
    "            '''第一条对角线的和加入列表'''\n",
    "            ox_line += [sum([ox[i, i] for i in range(ox.shape[0]) ])]\n",
    "            '''第二条对角线的和加入列表'''\n",
    "            ox_line += [sum([ox[ox.shape[0]-1-i,i] for i in range(ox.shape[0]) ])]\n",
    "            if ox.shape[0] == max(abs(x) for x in ox_line):\n",
    "                return -1 if -ox.shape[0] in ox_line else 1 if ox.shape[0] in ox_line else 0\n",
    "            playturn = 'x' if playturn=='o' else 'o'\n",
    "        return 0\n",
    "    \n",
    "    \n",
    "def ai_move(ttt, player='o'):\n",
    "    '''AI走一步，但每走一步都穷尽所有走法，找到最好的,'''\n",
    "    ox = ttt\n",
    "    playturn = player\n",
    "    move_value = {x:0 for x in ttt_availables}\n",
    "    print(move_value)\n",
    "    #'''一个产生下法序列的生成器函数，穷举直到不再有新的下法序列'''\n",
    "    #'''使用了排列生成，生成函数是个函数生成器； 返回剩余下法的所有排列'''\n",
    "    mvs = itertools.permutations(ttt_availables)\n",
    "    for m in mvs:\n",
    "        move_value[m[0]] += ttt_simu(ox, playturn, m)\n",
    "\n",
    "    mvlist = [k for k,v in move_value.items() if v==move_value[min(move_value, key=move_value.get)]]\n",
    "    print(move_value)\n",
    "    print(mvlist)\n",
    "    return mvlist[random.randint(0,len(mvlist)-1)] #返回元组(x,y)\n",
    "\n",
    "          \n",
    "def update(player, location, ttt):\n",
    "    '''# player在location(x,y)处落子，更新棋盘，,更新可用位置，计算此时棋局胜负'''\n",
    "    ttt[location] = 1 if player=='x' else -1\n",
    "    ttt_availables.remove( location )\n"
   ]
  },
  {
   "cell_type": "code",
   "execution_count": 4,
   "metadata": {},
   "outputs": [
    {
     "name": "stdout",
     "output_type": "stream",
     "text": [
      "请选择先手，o电脑先，x选手先：\n",
      "o\n"
     ]
    }
   ],
   "source": [
    "''' # 3 x 3 矩阵，值是棋子类型，0空，1代表'x'，-1代表'o'; ''' \n",
    "ttt = np.zeros((3, 3), dtype=int )\n",
    "ttt_availables = set( [(i,j) for i in range(3) for j in range(3)] )  \n",
    "while True:\n",
    "    print('请选择先手，o电脑先，x选手先：')\n",
    "    player = input()\n",
    "    if player == 'x' or player == 'o':\n",
    "        break"
   ]
  },
  {
   "cell_type": "code",
   "execution_count": 5,
   "metadata": {},
   "outputs": [
    {
     "name": "stdout",
     "output_type": "stream",
     "text": [
      " x\\y   1    2    3  \n",
      "\n",
      "  1    ~    ~    ~  \n",
      "\n",
      "  2    ~    ~    ~  \n",
      "\n",
      "  3    ~    ~    ~  \n",
      "\n",
      "{(0, 1): 0, (1, 2): 0, (0, 0): 0, (2, 1): 0, (2, 0): 0, (1, 1): 0, (2, 2): 0, (1, 0): 0, (0, 2): 0}\n"
     ]
    },
    {
     "ename": "NameError",
     "evalue": "name 'on_line' is not defined",
     "output_type": "error",
     "traceback": [
      "\u001b[1;31m---------------------------------------------------------------------------\u001b[0m",
      "\u001b[1;31mNameError\u001b[0m                                 Traceback (most recent call last)",
      "\u001b[1;32m<ipython-input-5-2df057bc3b89>\u001b[0m in \u001b[0;36m<module>\u001b[1;34m\u001b[0m\n\u001b[0;32m     22\u001b[0m \u001b[1;33m\u001b[0m\u001b[0m\n\u001b[0;32m     23\u001b[0m     \u001b[1;32mif\u001b[0m \u001b[0mplayer\u001b[0m \u001b[1;33m==\u001b[0m \u001b[1;34m'o'\u001b[0m\u001b[1;33m:\u001b[0m\u001b[1;33m\u001b[0m\u001b[1;33m\u001b[0m\u001b[0m\n\u001b[1;32m---> 24\u001b[1;33m         \u001b[0mplaylocation\u001b[0m \u001b[1;33m=\u001b[0m \u001b[0mai_move\u001b[0m\u001b[1;33m(\u001b[0m\u001b[0mttt\u001b[0m\u001b[1;33m)\u001b[0m\u001b[1;33m\u001b[0m\u001b[1;33m\u001b[0m\u001b[0m\n\u001b[0m\u001b[0;32m     25\u001b[0m         \u001b[0mprint\u001b[0m\u001b[1;33m(\u001b[0m\u001b[0mplaylocation\u001b[0m\u001b[1;33m)\u001b[0m\u001b[1;33m\u001b[0m\u001b[1;33m\u001b[0m\u001b[0m\n\u001b[0;32m     26\u001b[0m         \u001b[0mupdate\u001b[0m\u001b[1;33m(\u001b[0m\u001b[0mplayer\u001b[0m\u001b[1;33m,\u001b[0m \u001b[0mplaylocation\u001b[0m\u001b[1;33m,\u001b[0m \u001b[0mttt\u001b[0m\u001b[1;33m)\u001b[0m\u001b[1;33m\u001b[0m\u001b[1;33m\u001b[0m\u001b[0m\n",
      "\u001b[1;32m<ipython-input-3-e95eaf68a1e5>\u001b[0m in \u001b[0;36mai_move\u001b[1;34m(ttt, player)\u001b[0m\n\u001b[0;32m     54\u001b[0m     \u001b[0mmvs\u001b[0m \u001b[1;33m=\u001b[0m \u001b[0mitertools\u001b[0m\u001b[1;33m.\u001b[0m\u001b[0mpermutations\u001b[0m\u001b[1;33m(\u001b[0m\u001b[0mttt_availables\u001b[0m\u001b[1;33m)\u001b[0m\u001b[1;33m\u001b[0m\u001b[1;33m\u001b[0m\u001b[0m\n\u001b[0;32m     55\u001b[0m     \u001b[1;32mfor\u001b[0m \u001b[0mm\u001b[0m \u001b[1;32min\u001b[0m \u001b[0mmvs\u001b[0m\u001b[1;33m:\u001b[0m\u001b[1;33m\u001b[0m\u001b[1;33m\u001b[0m\u001b[0m\n\u001b[1;32m---> 56\u001b[1;33m         \u001b[0mmove_value\u001b[0m\u001b[1;33m[\u001b[0m\u001b[0mm\u001b[0m\u001b[1;33m[\u001b[0m\u001b[1;36m0\u001b[0m\u001b[1;33m]\u001b[0m\u001b[1;33m]\u001b[0m \u001b[1;33m+=\u001b[0m \u001b[0mttt_simu\u001b[0m\u001b[1;33m(\u001b[0m\u001b[0mox\u001b[0m\u001b[1;33m,\u001b[0m \u001b[0mplayturn\u001b[0m\u001b[1;33m,\u001b[0m \u001b[0mm\u001b[0m\u001b[1;33m)\u001b[0m\u001b[1;33m\u001b[0m\u001b[1;33m\u001b[0m\u001b[0m\n\u001b[0m\u001b[0;32m     57\u001b[0m \u001b[1;33m\u001b[0m\u001b[0m\n\u001b[0;32m     58\u001b[0m     \u001b[0mmvlist\u001b[0m \u001b[1;33m=\u001b[0m \u001b[1;33m[\u001b[0m\u001b[0mk\u001b[0m \u001b[1;32mfor\u001b[0m \u001b[0mk\u001b[0m\u001b[1;33m,\u001b[0m\u001b[0mv\u001b[0m \u001b[1;32min\u001b[0m \u001b[0mmove_value\u001b[0m\u001b[1;33m.\u001b[0m\u001b[0mitems\u001b[0m\u001b[1;33m(\u001b[0m\u001b[1;33m)\u001b[0m \u001b[1;32mif\u001b[0m \u001b[0mv\u001b[0m\u001b[1;33m==\u001b[0m\u001b[0mmove_value\u001b[0m\u001b[1;33m[\u001b[0m\u001b[0mmin\u001b[0m\u001b[1;33m(\u001b[0m\u001b[0mmove_value\u001b[0m\u001b[1;33m,\u001b[0m \u001b[0mkey\u001b[0m\u001b[1;33m=\u001b[0m\u001b[0mmove_value\u001b[0m\u001b[1;33m.\u001b[0m\u001b[0mget\u001b[0m\u001b[1;33m)\u001b[0m\u001b[1;33m]\u001b[0m\u001b[1;33m]\u001b[0m\u001b[1;33m\u001b[0m\u001b[1;33m\u001b[0m\u001b[0m\n",
      "\u001b[1;32m<ipython-input-3-e95eaf68a1e5>\u001b[0m in \u001b[0;36mttt_simu\u001b[1;34m(ttt, player, movesteps)\u001b[0m\n\u001b[0;32m     38\u001b[0m             \u001b[1;34m'''第二条对角线的和加入列表'''\u001b[0m\u001b[1;33m\u001b[0m\u001b[1;33m\u001b[0m\u001b[0m\n\u001b[0;32m     39\u001b[0m             \u001b[0mox_line\u001b[0m \u001b[1;33m+=\u001b[0m \u001b[1;33m[\u001b[0m\u001b[0msum\u001b[0m\u001b[1;33m(\u001b[0m\u001b[1;33m[\u001b[0m\u001b[0mox\u001b[0m\u001b[1;33m[\u001b[0m\u001b[0mox\u001b[0m\u001b[1;33m.\u001b[0m\u001b[0mshape\u001b[0m\u001b[1;33m[\u001b[0m\u001b[1;36m0\u001b[0m\u001b[1;33m]\u001b[0m\u001b[1;33m-\u001b[0m\u001b[1;36m1\u001b[0m\u001b[1;33m-\u001b[0m\u001b[0mi\u001b[0m\u001b[1;33m,\u001b[0m\u001b[0mi\u001b[0m\u001b[1;33m]\u001b[0m \u001b[1;32mfor\u001b[0m \u001b[0mi\u001b[0m \u001b[1;32min\u001b[0m \u001b[0mrange\u001b[0m\u001b[1;33m(\u001b[0m\u001b[0mox\u001b[0m\u001b[1;33m.\u001b[0m\u001b[0mshape\u001b[0m\u001b[1;33m[\u001b[0m\u001b[1;36m0\u001b[0m\u001b[1;33m]\u001b[0m\u001b[1;33m)\u001b[0m \u001b[1;33m]\u001b[0m\u001b[1;33m)\u001b[0m\u001b[1;33m]\u001b[0m\u001b[1;33m\u001b[0m\u001b[1;33m\u001b[0m\u001b[0m\n\u001b[1;32m---> 40\u001b[1;33m             \u001b[1;32mif\u001b[0m \u001b[0mox\u001b[0m\u001b[1;33m.\u001b[0m\u001b[0mshape\u001b[0m\u001b[1;33m[\u001b[0m\u001b[1;36m0\u001b[0m\u001b[1;33m]\u001b[0m \u001b[1;33m==\u001b[0m \u001b[0mmax\u001b[0m\u001b[1;33m(\u001b[0m\u001b[0mabs\u001b[0m\u001b[1;33m(\u001b[0m\u001b[0mx\u001b[0m\u001b[1;33m)\u001b[0m \u001b[1;32mfor\u001b[0m \u001b[0mx\u001b[0m \u001b[1;32min\u001b[0m \u001b[0mon_line\u001b[0m\u001b[1;33m)\u001b[0m\u001b[1;33m:\u001b[0m\u001b[1;33m\u001b[0m\u001b[1;33m\u001b[0m\u001b[0m\n\u001b[0m\u001b[0;32m     41\u001b[0m                 \u001b[1;32mreturn\u001b[0m \u001b[1;33m-\u001b[0m\u001b[1;36m1\u001b[0m \u001b[1;32mif\u001b[0m \u001b[1;33m-\u001b[0m\u001b[0mox\u001b[0m\u001b[1;33m.\u001b[0m\u001b[0mshape\u001b[0m\u001b[1;33m[\u001b[0m\u001b[1;36m0\u001b[0m\u001b[1;33m]\u001b[0m \u001b[1;32min\u001b[0m \u001b[0mox_line\u001b[0m \u001b[1;32melse\u001b[0m \u001b[1;36m1\u001b[0m \u001b[1;32mif\u001b[0m \u001b[0mox\u001b[0m\u001b[1;33m.\u001b[0m\u001b[0mshape\u001b[0m\u001b[1;33m[\u001b[0m\u001b[1;36m0\u001b[0m\u001b[1;33m]\u001b[0m \u001b[1;32min\u001b[0m \u001b[0mox_line\u001b[0m \u001b[1;32melse\u001b[0m \u001b[1;36m0\u001b[0m\u001b[1;33m\u001b[0m\u001b[1;33m\u001b[0m\u001b[0m\n\u001b[0;32m     42\u001b[0m             \u001b[0mplayturn\u001b[0m \u001b[1;33m=\u001b[0m \u001b[1;34m'x'\u001b[0m \u001b[1;32mif\u001b[0m \u001b[0mplayturn\u001b[0m\u001b[1;33m==\u001b[0m\u001b[1;34m'o'\u001b[0m \u001b[1;32melse\u001b[0m \u001b[1;34m'o'\u001b[0m\u001b[1;33m\u001b[0m\u001b[1;33m\u001b[0m\u001b[0m\n",
      "\u001b[1;31mNameError\u001b[0m: name 'on_line' is not defined"
     ]
    }
   ],
   "source": [
    "\n",
    "#print(ttt_availables)\n",
    "\n",
    "while True :\n",
    "    \n",
    "    tttshow(ttt)\n",
    "    \n",
    "    if player == 'x':\n",
    "        print('请选手选择落子处的数字，如23代表在第2行第3列落子：', end='')\n",
    "        xy = input()\n",
    "        playlocation = (int(xy[0])-1, int(xy[1])-1 )\n",
    "        update(player, playlocation, ttt)\n",
    "        if ttt_simu(ttt) == 1:\n",
    "            print('选手 赢')\n",
    "            tttshow(ttt)\n",
    "            break\n",
    "        if ttt_availables == set():\n",
    "            print('平局')\n",
    "            tttshow(ttt)\n",
    "            break\n",
    "        player = 'o'\n",
    "        \n",
    "    if player == 'o':\n",
    "        playlocation = ai_move(ttt)\n",
    "        print(playlocation)\n",
    "        update(player, playlocation, ttt)\n",
    "        if ttt_simu(ttt) == -1:\n",
    "            print('计算机 赢')\n",
    "            tttshow(ttt)\n",
    "            break \n",
    "        if ttt_availables == set():\n",
    "            print('平局')\n",
    "            tttshow(ttt)\n",
    "            break\n",
    "        player = 'x'\n",
    "        \n",
    "        "
   ]
  },
  {
   "cell_type": "code",
   "execution_count": null,
   "metadata": {},
   "outputs": [],
   "source": []
  },
  {
   "cell_type": "code",
   "execution_count": null,
   "metadata": {},
   "outputs": [],
   "source": []
  },
  {
   "cell_type": "code",
   "execution_count": null,
   "metadata": {},
   "outputs": [],
   "source": []
  },
  {
   "cell_type": "code",
   "execution_count": null,
   "metadata": {},
   "outputs": [],
   "source": []
  }
 ],
 "metadata": {
  "celltoolbar": "Raw Cell Format",
  "kernelspec": {
   "display_name": "Python 3",
   "language": "python",
   "name": "python3"
  },
  "language_info": {
   "codemirror_mode": {
    "name": "ipython",
    "version": 3
   },
   "file_extension": ".py",
   "mimetype": "text/x-python",
   "name": "python",
   "nbconvert_exporter": "python",
   "pygments_lexer": "ipython3",
   "version": "3.7.1"
  }
 },
 "nbformat": 4,
 "nbformat_minor": 2
}
